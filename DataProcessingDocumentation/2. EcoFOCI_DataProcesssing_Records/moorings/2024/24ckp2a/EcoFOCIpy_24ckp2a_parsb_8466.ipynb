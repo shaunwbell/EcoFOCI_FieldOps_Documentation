{
 "cells": [
  {
   "cell_type": "markdown",
   "id": "educational-chosen",
   "metadata": {},
   "source": [
    "# Using EcoFOCIpy to process raw field data\n",
    "\n",
    "## Mooring / Timeseries Data\n",
    "\n",
    "Basic workflow for each instrument grouping is *(initial archive level)*:\n",
    "- Parse data from raw files into pandas dataframe\n",
    "- output initial files (pandas->csv) **ERDDAP NRT** when no meta data is added\n",
    "\n",
    "Convert to xarray dataframe for all following work *(working or final data level):\n",
    "- Add metadata from instrument yaml files and/or header info\n",
    "- ingest metadata from deployment/recovery records or cast logs\n",
    "- process data beyond simple file translate\n",
    "- apply any calibrations or corrections\n",
    "    + field corrections\n",
    "    + offsets\n",
    "    + instrument compensations\n",
    "    + some QC were available... this would be old-school simple bounds mostly\n",
    "- adjust time bounds and sample frequency (xarray dataframe)\n",
    "- save as CF netcdf via xarray: so many of the steps above are optional\n",
    "    + **ERDDAP NRT** if no corrections, offsets or time bounds are applied but some meta data is\n",
    "    + **Working and awaiting QC** has no ERDDAP representation and is a holding spot\n",
    "    + **ERDDAP Final** fully calibrated, qc'd and populated with meta information\n",
    "    + **ERDDAP Final** is pulled from final_data_cf , **ERDDAP NRT** is pulled from initial_archive\n",
    "\n",
    "Plot for preview and QC\n",
    "- preview images (indiv and/or collectively)\n",
    "- overlay cast data on timeseries (as field check)\n",
    "- manual qc process\n",
    "- automated qc process ML/AI\n",
    "\n",
    "Further refinenments for ERDDAP hosting:\n"
   ]
  },
  {
   "cell_type": "markdown",
   "id": "allied-miniature",
   "metadata": {},
   "source": [
    "## Example below is for EcoFluorometer with a single channel (Eco FLSB) but the workflow is similar for all instruments.\n",
    "\n",
    "Future processing of this instrument can be a simplified (no markdown) process which can be archived so that the procedure can be traced or updated"
   ]
  },
  {
   "cell_type": "code",
   "execution_count": 84,
   "id": "studied-pollution",
   "metadata": {
    "tags": []
   },
   "outputs": [],
   "source": [
    "import yaml\n",
    "\n",
    "import EcoFOCIpy.io.wetlabs_parser as wetlabs_parser #<- instrument specific\n",
    "import EcoFOCIpy.io.ncCFsave as ncCFsave\n",
    "import EcoFOCIpy.metaconfig.load_config as load_config"
   ]
  },
  {
   "cell_type": "markdown",
   "id": "public-millennium",
   "metadata": {},
   "source": [
    "The sample_data_dir should be included in the github package but may not be included in the pip install of the package\n",
    "\n",
    "## Simple Processing - first step"
   ]
  },
  {
   "cell_type": "code",
   "execution_count": 85,
   "id": "offensive-level",
   "metadata": {
    "tags": []
   },
   "outputs": [],
   "source": [
    "sample_data_dir = '/Users/bell/Programs/EcoFOCIpy/'\n",
    "user_data_dir = '/Users/bell/ecoraid/2024/Moorings/24ckp2a/'"
   ]
  },
  {
   "cell_type": "code",
   "execution_count": 86,
   "id": "third-yellow",
   "metadata": {
    "tags": []
   },
   "outputs": [],
   "source": [
    "###############################################################\n",
    "# edit to point to {instrument sepcific} raw datafile \n",
    "datafile = user_data_dir+'raw/eco_fluor/24ckp2a_ecoparsb_8466_40m.txt'\n",
    "instrument = 'ECO-PAR PARSB 8466'\n",
    "mooring_meta_file = user_data_dir+'logs/24CKP-2A.yaml'\n",
    "inst_meta_file = sample_data_dir+'staticdata/instr_metaconfig/ecopar_cf.yaml'\n",
    "inst_shortname = 'ecopar'\n",
    "###############################################################\n",
    "\n",
    "#init and load data\n",
    "ecoflsb = wetlabs_parser.wetlabs()\n",
    "(ecoflsb_data,ecoflsb_header) = ecoflsb.parse(filename=datafile) "
   ]
  },
  {
   "cell_type": "code",
   "execution_count": 87,
   "id": "fifteen-military",
   "metadata": {
    "tags": []
   },
   "outputs": [
    {
     "data": {
      "text/plain": [
       "['$mnu\\n',\n",
       " 'Ser PARSB-8466\\n',\n",
       " 'Ver PARS 4.04\\n',\n",
       " 'Ave 310\\n',\n",
       " 'Pkt 7\\n',\n",
       " 'Set 0\\n',\n",
       " 'Rec 1\\n',\n",
       " 'Asv 4\\n',\n",
       " 'Int 00:59:52\\n',\n",
       " 'Dat 08/22/25\\n',\n",
       " 'Clk 19:32:18\\n',\n",
       " 'Mem 1894\\n',\n",
       " 'realtimeunrecognized command\\n',\n",
       " '$mnu\\n',\n",
       " 'Ser PARSB-8466\\n',\n",
       " 'Ver PARS 4.04\\n',\n",
       " 'Ave 310\\n',\n",
       " 'Pkt 7\\n',\n",
       " 'Set 0\\n',\n",
       " 'Rec 1\\n',\n",
       " 'Asv 4\\n',\n",
       " 'Int 00:59:52\\n',\n",
       " 'Dat 08/22/25\\n',\n",
       " 'Clk 19:32:43\\n',\n",
       " 'Mem 1894\\n',\n",
       " 'realtime was 193910unrecognized command\\n',\n",
       " '$get62520 records to read\\n']"
      ]
     },
     "execution_count": 87,
     "metadata": {},
     "output_type": "execute_result"
    }
   ],
   "source": [
    "ecoflsb_header"
   ]
  },
  {
   "cell_type": "code",
   "execution_count": 88,
   "id": "alive-bruce",
   "metadata": {
    "tags": []
   },
   "outputs": [
    {
     "data": {
      "text/html": [
       "<div>\n",
       "<style scoped>\n",
       "    .dataframe tbody tr th:only-of-type {\n",
       "        vertical-align: middle;\n",
       "    }\n",
       "\n",
       "    .dataframe tbody tr th {\n",
       "        vertical-align: top;\n",
       "    }\n",
       "\n",
       "    .dataframe thead th {\n",
       "        text-align: right;\n",
       "    }\n",
       "</style>\n",
       "<table border=\"1\" class=\"dataframe\">\n",
       "  <thead>\n",
       "    <tr style=\"text-align: right;\">\n",
       "      <th></th>\n",
       "      <th>PAR</th>\n",
       "    </tr>\n",
       "    <tr>\n",
       "      <th>date_time</th>\n",
       "      <th></th>\n",
       "    </tr>\n",
       "  </thead>\n",
       "  <tbody>\n",
       "    <tr>\n",
       "      <th>2024-08-15 03:01:00</th>\n",
       "      <td>9692.0</td>\n",
       "    </tr>\n",
       "    <tr>\n",
       "      <th>2024-08-15 03:01:01</th>\n",
       "      <td>11054.0</td>\n",
       "    </tr>\n",
       "    <tr>\n",
       "      <th>2024-08-15 03:01:02</th>\n",
       "      <td>10836.0</td>\n",
       "    </tr>\n",
       "    <tr>\n",
       "      <th>2024-08-15 03:01:03</th>\n",
       "      <td>10301.0</td>\n",
       "    </tr>\n",
       "    <tr>\n",
       "      <th>2024-08-15 03:01:04</th>\n",
       "      <td>10298.0</td>\n",
       "    </tr>\n",
       "    <tr>\n",
       "      <th>...</th>\n",
       "      <td>...</td>\n",
       "    </tr>\n",
       "    <tr>\n",
       "      <th>2025-08-22 05:01:05</th>\n",
       "      <td>9853.0</td>\n",
       "    </tr>\n",
       "    <tr>\n",
       "      <th>2025-08-22 19:31:11</th>\n",
       "      <td>7734.0</td>\n",
       "    </tr>\n",
       "    <tr>\n",
       "      <th>2025-08-22 19:31:12</th>\n",
       "      <td>7731.0</td>\n",
       "    </tr>\n",
       "    <tr>\n",
       "      <th>2025-08-22 19:31:13</th>\n",
       "      <td>7730.0</td>\n",
       "    </tr>\n",
       "    <tr>\n",
       "      <th>NaT</th>\n",
       "      <td>NaN</td>\n",
       "    </tr>\n",
       "  </tbody>\n",
       "</table>\n",
       "<p>62520 rows × 1 columns</p>\n",
       "</div>"
      ],
      "text/plain": [
       "                         PAR\n",
       "date_time                   \n",
       "2024-08-15 03:01:00   9692.0\n",
       "2024-08-15 03:01:01  11054.0\n",
       "2024-08-15 03:01:02  10836.0\n",
       "2024-08-15 03:01:03  10301.0\n",
       "2024-08-15 03:01:04  10298.0\n",
       "...                      ...\n",
       "2025-08-22 05:01:05   9853.0\n",
       "2025-08-22 19:31:11   7734.0\n",
       "2025-08-22 19:31:12   7731.0\n",
       "2025-08-22 19:31:13   7730.0\n",
       "NaT                      NaN\n",
       "\n",
       "[62520 rows x 1 columns]"
      ]
     },
     "execution_count": 88,
     "metadata": {},
     "output_type": "execute_result"
    }
   ],
   "source": [
    "ecoflsb_data"
   ]
  },
  {
   "cell_type": "markdown",
   "id": "a6de77bb",
   "metadata": {},
   "source": [
    "### Engr2Sci Calibration (unique to wetlabs instruments)\n",
    "\n",
    "Must apply the known cal factors from the lab to the raw data to get science data.  These are linear transformations of the form `y=mx+b`, so a slope (m) and offset (b) should be provided.  Each channel has its own cal factor.  Currently there is no routine to read these from a database or file, so you need to input them into the object method.  \n",
    "\n",
    "Change the name of each channel below to be that of the column label (wavelenght), and change the 'outname' to be the netcdf CF compliant variable name (in the instrument yaml files)"
   ]
  },
  {
   "cell_type": "code",
   "execution_count": 89,
   "id": "cfc90fd1",
   "metadata": {
    "tags": []
   },
   "outputs": [],
   "source": [
    "cal_coef = {'PAR':{'Im':1.3589,'a1':2923.827,'a0':4286.130,'outname':'par'}           \n",
    "            }\n",
    "\n",
    "ecoflsb_data['par'] = cal_coef['PAR']['Im'] * 10**((ecoflsb_data['PAR']-cal_coef['PAR']['a0']) / cal_coef['PAR']['a1'])"
   ]
  },
  {
   "cell_type": "markdown",
   "id": "ready-audit",
   "metadata": {},
   "source": [
    "## Time properties\n",
    "\n",
    "Its unusual that our clocks drift to the point of concern for our instruments (if an instrument is off by 3 minutes but only sampling hourly... regridding that data will result in minimal changes).  However, there are a few time oriented modifications that may need to be made.\n",
    "\n",
    "The can be classified into two categories:\n",
    "+ interpolate: these change the parameter values in accordance with the time edits\n",
    "    - linear interpolation is most common\n",
    "    - averaging of data and rebinning/resampling is also common (this needs to have the \"time lable\" thought out...)\n",
    "    - decimating is less common but does not impact the max/min values\n",
    "+ shift: these do not alter the measurements, just the timestamps they are associated with\n",
    "    - the round function will work well to correct small time errors/drifts **common**\n",
    "    - dropping extra precision on time (if you want hourly measurements, just remove all minute/second info... could cause large errors if rounding would have been more appropriate)"
   ]
  },
  {
   "cell_type": "markdown",
   "id": "supposed-bankruptcy",
   "metadata": {},
   "source": [
    "It is very easy to use pandas interplation and resample methods on the dataframe as is.  A few steps are suggested below:\n",
    "- parse out on-deck (predeployment and recovery) data.  This can be done via pandas or xarray but requires the mooring metadata to have been read in.  See future steps below.\n",
    "- even if the sample frequency is set to the desired measurement frequency, it would be good to perform a quick regridding as an assurance task\n",
    "- FOCI data is usualy 1min, 10min, 1hr - and the 1min data is a fairly new (sbe56) data stream\n",
    "    + subsampling high frequency data to lower frequency is easy via df.resample().mean() but it will label the new datapoint per default instructions.  The default is to label it with the left boundary of the bin.\n",
    "    + you may want to take the median instead of the mean for noisy data (fluorometer) , occasionally decimating may be more appropriate if you want to downsize the dataset size but not smear features\n",
    "    + shifting times can be a bit more involved.  There are two primary ways to do it, interpolate or shift (round)\n",
    "        - to interpolate, you will need to upsample your data to a higher frequency which will generate missing values, then interpolate (with a maximum gap size), then decimate.  This always has the artifact of smoothing data and decreasing the min/max values. **common on microcats and other 10min datasets**\n",
    "        - shifting usually just involves droping extra time \"digits\", if you want hourly, you could just drop the trailing minutes assuming you are just off the hour (8:05 -> 8:00) or you can round to the nearest time unit but niether of these changes the data value, just the time associated with it. **common on seacats and other hourly datasets**\n",
    "        - you may also be able to *shift* using the pandas datetime round function and specifing the desired frequency.\n",
    "    + I suggest if no change is needed... df.index.round(freq=*'your native sample freq'*)\n",
    "    "
   ]
  },
  {
   "cell_type": "markdown",
   "id": "f2774ce6",
   "metadata": {},
   "source": [
    "### Special note for Wetlabs times\n",
    "\n",
    "Historically these instruments have drifted significantly.  (usually to be slow) We keep track of the shift in seconds. and we do burst measurements with them.  How you want to tackle this is gonna be dependent on each instrument.  Goal is to stick to simple timeseries analysis via pandas though (as opposed to determining when the groups of each burst are sampled)"
   ]
  },
  {
   "cell_type": "code",
   "execution_count": 90,
   "id": "13c14c27",
   "metadata": {
    "tags": []
   },
   "outputs": [
    {
     "data": {
      "text/html": [
       "<div>\n",
       "<style scoped>\n",
       "    .dataframe tbody tr th:only-of-type {\n",
       "        vertical-align: middle;\n",
       "    }\n",
       "\n",
       "    .dataframe tbody tr th {\n",
       "        vertical-align: top;\n",
       "    }\n",
       "\n",
       "    .dataframe thead th {\n",
       "        text-align: right;\n",
       "    }\n",
       "</style>\n",
       "<table border=\"1\" class=\"dataframe\">\n",
       "  <thead>\n",
       "    <tr style=\"text-align: right;\">\n",
       "      <th></th>\n",
       "      <th>PAR</th>\n",
       "      <th>par</th>\n",
       "    </tr>\n",
       "    <tr>\n",
       "      <th>date_time</th>\n",
       "      <th></th>\n",
       "      <th></th>\n",
       "    </tr>\n",
       "  </thead>\n",
       "  <tbody>\n",
       "    <tr>\n",
       "      <th>2024-08-15 03:01:00.000000000</th>\n",
       "      <td>9692.0</td>\n",
       "      <td>95.959867</td>\n",
       "    </tr>\n",
       "    <tr>\n",
       "      <th>2024-08-15 03:01:01.000012018</th>\n",
       "      <td>11054.0</td>\n",
       "      <td>280.490059</td>\n",
       "    </tr>\n",
       "    <tr>\n",
       "      <th>2024-08-15 03:01:02.000024037</th>\n",
       "      <td>10836.0</td>\n",
       "      <td>236.242298</td>\n",
       "    </tr>\n",
       "    <tr>\n",
       "      <th>2024-08-15 03:01:03.000036055</th>\n",
       "      <td>10301.0</td>\n",
       "      <td>155.016632</td>\n",
       "    </tr>\n",
       "    <tr>\n",
       "      <th>2024-08-15 03:01:04.000048074</th>\n",
       "      <td>10298.0</td>\n",
       "      <td>154.650826</td>\n",
       "    </tr>\n",
       "    <tr>\n",
       "      <th>...</th>\n",
       "      <td>...</td>\n",
       "      <td>...</td>\n",
       "    </tr>\n",
       "    <tr>\n",
       "      <th>2025-08-22 05:07:30.372523312</th>\n",
       "      <td>9853.0</td>\n",
       "      <td>108.931744</td>\n",
       "    </tr>\n",
       "    <tr>\n",
       "      <th>2025-08-22 05:07:31.372535330</th>\n",
       "      <td>9853.0</td>\n",
       "      <td>108.931744</td>\n",
       "    </tr>\n",
       "    <tr>\n",
       "      <th>2025-08-22 19:37:37.999975962</th>\n",
       "      <td>7734.0</td>\n",
       "      <td>20.531438</td>\n",
       "    </tr>\n",
       "    <tr>\n",
       "      <th>2025-08-22 19:37:38.999987981</th>\n",
       "      <td>7731.0</td>\n",
       "      <td>20.482989</td>\n",
       "    </tr>\n",
       "    <tr>\n",
       "      <th>2025-08-22 19:37:40.000000000</th>\n",
       "      <td>7730.0</td>\n",
       "      <td>20.466864</td>\n",
       "    </tr>\n",
       "  </tbody>\n",
       "</table>\n",
       "<p>62519 rows × 2 columns</p>\n",
       "</div>"
      ],
      "text/plain": [
       "                                   PAR         par\n",
       "date_time                                         \n",
       "2024-08-15 03:01:00.000000000   9692.0   95.959867\n",
       "2024-08-15 03:01:01.000012018  11054.0  280.490059\n",
       "2024-08-15 03:01:02.000024037  10836.0  236.242298\n",
       "2024-08-15 03:01:03.000036055  10301.0  155.016632\n",
       "2024-08-15 03:01:04.000048074  10298.0  154.650826\n",
       "...                                ...         ...\n",
       "2025-08-22 05:07:30.372523312   9853.0  108.931744\n",
       "2025-08-22 05:07:31.372535330   9853.0  108.931744\n",
       "2025-08-22 19:37:37.999975962   7734.0   20.531438\n",
       "2025-08-22 19:37:38.999987981   7731.0   20.482989\n",
       "2025-08-22 19:37:40.000000000   7730.0   20.466864\n",
       "\n",
       "[62519 rows x 2 columns]"
      ]
     },
     "execution_count": 90,
     "metadata": {},
     "output_type": "execute_result"
    }
   ],
   "source": [
    "ecoflsb.NaT_removal()\n",
    "ecoflsb_data = ecoflsb.time_correction(offset_seconds=6*60+27,method='linear') #positive to catch up with GPS time - linear correction may need to be applied... this is an offset shift at the moment \n",
    "ecoflsb_data"
   ]
  },
  {
   "cell_type": "code",
   "execution_count": 91,
   "id": "97545bab",
   "metadata": {
    "tags": []
   },
   "outputs": [
    {
     "name": "stderr",
     "output_type": "stream",
     "text": [
      "/var/folders/6r/n_mpcj7d7pdf9ncqvjy5vb8c0000jm/T/ipykernel_5975/3096210226.py:7: FutureWarning: 'T' is deprecated and will be removed in a future version, please use 'min' instead.\n",
      "  ecoflsb_data = ecoflsb_data.resample('2T').median().interpolate()\n"
     ]
    },
    {
     "data": {
      "text/html": [
       "<div>\n",
       "<style scoped>\n",
       "    .dataframe tbody tr th:only-of-type {\n",
       "        vertical-align: middle;\n",
       "    }\n",
       "\n",
       "    .dataframe tbody tr th {\n",
       "        vertical-align: top;\n",
       "    }\n",
       "\n",
       "    .dataframe thead th {\n",
       "        text-align: right;\n",
       "    }\n",
       "</style>\n",
       "<table border=\"1\" class=\"dataframe\">\n",
       "  <thead>\n",
       "    <tr style=\"text-align: right;\">\n",
       "      <th></th>\n",
       "      <th>PAR</th>\n",
       "      <th>par</th>\n",
       "    </tr>\n",
       "    <tr>\n",
       "      <th>date_time</th>\n",
       "      <th></th>\n",
       "      <th></th>\n",
       "    </tr>\n",
       "  </thead>\n",
       "  <tbody>\n",
       "    <tr>\n",
       "      <th>2024-08-15 03:00:00</th>\n",
       "      <td>10309.000000</td>\n",
       "      <td>155.999446</td>\n",
       "    </tr>\n",
       "    <tr>\n",
       "      <th>2024-08-15 04:00:00</th>\n",
       "      <td>9466.000000</td>\n",
       "      <td>80.314449</td>\n",
       "    </tr>\n",
       "    <tr>\n",
       "      <th>2024-08-15 05:00:00</th>\n",
       "      <td>9029.000000</td>\n",
       "      <td>56.928801</td>\n",
       "    </tr>\n",
       "    <tr>\n",
       "      <th>2024-08-15 06:00:00</th>\n",
       "      <td>8509.000000</td>\n",
       "      <td>37.799229</td>\n",
       "    </tr>\n",
       "    <tr>\n",
       "      <th>2024-08-15 07:00:00</th>\n",
       "      <td>7493.000000</td>\n",
       "      <td>16.982169</td>\n",
       "    </tr>\n",
       "    <tr>\n",
       "      <th>...</th>\n",
       "      <td>...</td>\n",
       "      <td>...</td>\n",
       "    </tr>\n",
       "    <tr>\n",
       "      <th>2025-08-22 15:00:00</th>\n",
       "      <td>8403.551724</td>\n",
       "      <td>48.488207</td>\n",
       "    </tr>\n",
       "    <tr>\n",
       "      <th>2025-08-22 16:00:00</th>\n",
       "      <td>8257.344828</td>\n",
       "      <td>42.400116</td>\n",
       "    </tr>\n",
       "    <tr>\n",
       "      <th>2025-08-22 17:00:00</th>\n",
       "      <td>8111.137931</td>\n",
       "      <td>36.312025</td>\n",
       "    </tr>\n",
       "    <tr>\n",
       "      <th>2025-08-22 18:00:00</th>\n",
       "      <td>7964.931034</td>\n",
       "      <td>30.223934</td>\n",
       "    </tr>\n",
       "    <tr>\n",
       "      <th>2025-08-22 19:00:00</th>\n",
       "      <td>7818.724138</td>\n",
       "      <td>24.135843</td>\n",
       "    </tr>\n",
       "  </tbody>\n",
       "</table>\n",
       "<p>8945 rows × 2 columns</p>\n",
       "</div>"
      ],
      "text/plain": [
       "                              PAR         par\n",
       "date_time                                    \n",
       "2024-08-15 03:00:00  10309.000000  155.999446\n",
       "2024-08-15 04:00:00   9466.000000   80.314449\n",
       "2024-08-15 05:00:00   9029.000000   56.928801\n",
       "2024-08-15 06:00:00   8509.000000   37.799229\n",
       "2024-08-15 07:00:00   7493.000000   16.982169\n",
       "...                           ...         ...\n",
       "2025-08-22 15:00:00   8403.551724   48.488207\n",
       "2025-08-22 16:00:00   8257.344828   42.400116\n",
       "2025-08-22 17:00:00   8111.137931   36.312025\n",
       "2025-08-22 18:00:00   7964.931034   30.223934\n",
       "2025-08-22 19:00:00   7818.724138   24.135843\n",
       "\n",
       "[8945 rows x 2 columns]"
      ]
     },
     "execution_count": 91,
     "metadata": {},
     "output_type": "execute_result"
    }
   ],
   "source": [
    "#the smaller you resample, the closer to the \"minute\" you will be, data is taken over 10seconds every hour\n",
    "# so by resampling over a two minute period, you should get a single data point of relevance and linearly interpolated values in all other 2min bins\n",
    "# tehn you can determin if you round or interpolate or truncate\n",
    "\n",
    "# offset here is 2min... lets just decimate by choosing the hourly data (which has been somewhat linearly interpolated already)\n",
    "\n",
    "ecoflsb_data = ecoflsb_data.resample('2T').median().interpolate()\n",
    "ecoflsb_data=ecoflsb_data[ecoflsb_data.index.minute==0]\n",
    "\n",
    "ecoflsb_data"
   ]
  },
  {
   "cell_type": "code",
   "execution_count": 92,
   "id": "undefined-membrane",
   "metadata": {
    "tags": []
   },
   "outputs": [
    {
     "data": {
      "text/plain": [
       "<Axes: xlabel='date_time'>"
      ]
     },
     "execution_count": 92,
     "metadata": {},
     "output_type": "execute_result"
    },
    {
     "data": {
      "image/png": "[encoded data removed]",
      "text/plain": [
       "<Figure size 640x480 with 1 Axes>"
      ]
     },
     "metadata": {},
     "output_type": "display_data"
    }
   ],
   "source": [
    "ecoflsb_data.plot()"
   ]
  },
  {
   "cell_type": "markdown",
   "id": "acknowledged-active",
   "metadata": {},
   "source": [
    "## Add Deployment meta information\n",
    "\n",
    "Two methods are available (if comming from python2 world - ordereddict was important... in py38 a dictionary is inherently ordered)"
   ]
  },
  {
   "cell_type": "code",
   "execution_count": 93,
   "id": "freelance-fairy",
   "metadata": {
    "tags": []
   },
   "outputs": [],
   "source": [
    "#just a dictionary of dictionaries - simple\n",
    "with open(mooring_meta_file) as file:\n",
    "    mooring_config = yaml.full_load(file)\n"
   ]
  },
  {
   "cell_type": "code",
   "execution_count": 94,
   "id": "proper-ghana",
   "metadata": {
    "tags": []
   },
   "outputs": [],
   "source": [
    "#Generates an ordereddict but prints better for summary\n",
    "#likely to be depricated as an ordered dict may not be useful and drops a dependency if its EOL\n",
    "mooring_config_v2 = load_config.load_config(mooring_meta_file)"
   ]
  },
  {
   "cell_type": "code",
   "execution_count": 95,
   "id": "israeli-begin",
   "metadata": {
    "tags": []
   },
   "outputs": [
    {
     "data": {
      "text/plain": [
       "{'InstType': 'ECO-PAR PARSB',\n",
       " 'SerialNo': '8466',\n",
       " 'DesignedDepth': 40.0,\n",
       " 'ActualDepth': 40.0,\n",
       " 'PreDeploymentNotes': 'started at 0301 UTC',\n",
       " 'PostDeploymentNotes': '',\n",
       " 'Deployed': 'y',\n",
       " 'Recovered': 'y'}"
      ]
     },
     "execution_count": 95,
     "metadata": {},
     "output_type": "execute_result"
    }
   ],
   "source": [
    "mooring_config['Instrumentation'][instrument]"
   ]
  },
  {
   "cell_type": "markdown",
   "id": "mysterious-cornwall",
   "metadata": {},
   "source": [
    "## Add Instrument meta information\n",
    "\n",
    "Time, depth, lat, lon should be added regardless (always our coordinates) but for a mooring site its going to be a (1,1,1,t) dataset\n",
    "The variables of interest should be read from the data file and matched to a key for naming.  That key is in the inst_config file seen below and should represent common conversion names in the raw data"
   ]
  },
  {
   "cell_type": "code",
   "execution_count": 96,
   "id": "checked-raise",
   "metadata": {
    "tags": []
   },
   "outputs": [
    {
     "data": {
      "text/plain": [
       "{'time': {'epic_key': 'TIM_601',\n",
       "  'name': 'time',\n",
       "  'generic_name': 'time',\n",
       "  'standard_name': 'time',\n",
       "  'long_name': 'date and time since reference time'},\n",
       " 'depth': {'epic_key': 'D_3',\n",
       "  'generic_name': 'depth',\n",
       "  'units': 'meter',\n",
       "  'long_name': 'depth below surface (meters)',\n",
       "  'standard_name': 'depth',\n",
       "  'positive': 'down'},\n",
       " 'latitude': {'epic_key': 'LON_501',\n",
       "  'name': 'latitude',\n",
       "  'generic_name': 'latitude',\n",
       "  'units': 'degrees_north',\n",
       "  'long_name': 'latitude',\n",
       "  'standard_name': 'latitude'},\n",
       " 'longitude': {'epic_key': 'LAT_500',\n",
       "  'name': 'longitude',\n",
       "  'generic_name': 'longitude',\n",
       "  'units': 'degrees_east',\n",
       "  'long_name': 'longitude',\n",
       "  'standard_name': 'longitude'},\n",
       " 'timeseries_id': {'cf_role': 'timeseries_id',\n",
       "  'long_name': 'timeseries id',\n",
       "  'standard_name': ''},\n",
       " 'par': {'generic_name': 'par',\n",
       "  'epic_key': 'PAR_905',\n",
       "  'long_name': 'Photosynthetic Active Radiation',\n",
       "  'standard_name': 'omnidirectional_photosynthetic_photon_spherical_irradiance_in_sea_water',\n",
       "  'units': 'uEin m-2 s-1'}}"
      ]
     },
     "execution_count": 96,
     "metadata": {},
     "output_type": "execute_result"
    }
   ],
   "source": [
    "with open(inst_meta_file) as file:\n",
    "    inst_config = yaml.full_load(file)\n",
    "inst_config"
   ]
  },
  {
   "cell_type": "code",
   "execution_count": 97,
   "id": "varied-popularity",
   "metadata": {
    "tags": []
   },
   "outputs": [
    {
     "data": {
      "text/plain": [
       "<EcoFOCIpy.io.ncCFsave.EcoFOCI_CFnc at 0x308641bb0>"
      ]
     },
     "execution_count": 97,
     "metadata": {},
     "output_type": "execute_result"
    }
   ],
   "source": [
    "# Add meta data and prelim processing based on meta data\n",
    "# Convert to xarray and add meta information - save as CF netcdf file\n",
    "# pass -> data, instmeta, depmeta\n",
    "ecoflsb_data_nc = ncCFsave.EcoFOCI_CFnc(df=ecoflsb_data, \n",
    "                                instrument_yaml=inst_config, \n",
    "                                operation_yaml=mooring_config, \n",
    "                                operation_type='mooring',\n",
    "                                instrument_id=instrument, \n",
    "                                inst_shortname=inst_shortname)\n",
    "ecoflsb_data_nc"
   ]
  },
  {
   "cell_type": "markdown",
   "id": "asian-chambers",
   "metadata": {},
   "source": [
    "At this point, you could save your file with the `.xarray2netcdf_save()` method and have a functioning dataset.... but it would be very simple with no additional qc, meta-data, or tuned parameters for optimizing software like ferret or erddap."
   ]
  },
  {
   "cell_type": "code",
   "execution_count": 98,
   "id": "practical-pennsylvania",
   "metadata": {
    "tags": []
   },
   "outputs": [],
   "source": [
    "# expand the dimensions and coordinate variables\n",
    "# renames them appropriatley and prepares them for meta-filled values\n",
    "ecoflsb_data_nc.expand_dimensions()"
   ]
  },
  {
   "cell_type": "code",
   "execution_count": 99,
   "id": "floral-operations",
   "metadata": {
    "tags": []
   },
   "outputs": [],
   "source": [
    "ecoflsb_data_nc.variable_meta_data(variable_keys=list(ecoflsb_data.columns.values),drop_missing=True)\n",
    "ecoflsb_data_nc.temporal_geospatioal_meta_data()\n",
    "#adding dimension meta needs to come after updating the dimension values... BUG?\n",
    "ecoflsb_data_nc.dimension_meta_data(variable_keys=['time','depth','latitude','longitude'])"
   ]
  },
  {
   "cell_type": "markdown",
   "id": "seventh-product",
   "metadata": {},
   "source": [
    "The following steps can happen in just about any order and are all meta-data driven.  Therefore, they are not required to have a functioning dataset, but they are required to have a well described dataset"
   ]
  },
  {
   "cell_type": "code",
   "execution_count": 100,
   "id": "auburn-diversity",
   "metadata": {
    "tags": []
   },
   "outputs": [],
   "source": [
    "#add global attributes\n",
    "ecoflsb_data_nc.deployment_meta_add()\n",
    "ecoflsb_data_nc.get_xdf()\n",
    "\n",
    "#add instituitonal global attributes\n",
    "ecoflsb_data_nc.institution_meta_add()\n",
    "\n",
    "#add instrument global attributes\n",
    "ecoflsb_data_nc.instrument_meta_data()\n",
    "\n",
    "#add creation date/time - provenance data\n",
    "ecoflsb_data_nc.provinance_meta_add()\n",
    "\n",
    "#provide intial qc status field\n",
    "ecoflsb_data_nc.qc_status(qc_status='unknown')\n"
   ]
  },
  {
   "cell_type": "code",
   "execution_count": 101,
   "id": "92e0a75c-b0fa-4567-b8a9-77c5f1131f44",
   "metadata": {},
   "outputs": [
    {
     "data": {
      "text/plain": [
       "<Figure size 640x480 with 0 Axes>"
      ]
     },
     "metadata": {},
     "output_type": "display_data"
    },
    {
     "data": {
      "image/png": "[encoded data removed]",
      "text/plain": [
       "<Figure size 2400x400 with 1 Axes>"
      ]
     },
     "metadata": {},
     "output_type": "display_data"
    }
   ],
   "source": [
    "#wrap the plot in image settings for visual appeal\n",
    "# may be able to make this cleaner or just a preset\n",
    "%run '../../../settings/mpl_plot_settings.py'\n",
    "\n",
    "%matplotlib inline\n",
    "import matplotlib.dates as mdates\n",
    "from matplotlib.dates import YearLocator, WeekdayLocator, MonthLocator, DayLocator, HourLocator, DateFormatter\n",
    "import matplotlib.ticker as ticker\n",
    "\n",
    "fig, ax = plt.subplots(1,figsize=(24, 4),sharex=True)\n",
    "ecoflsb_data_nc.autotrim_time().par.plot(ax=ax,color='y')\n",
    "\n",
    "# xfmt = mdates.DateFormatter('%d-%b')\n",
    "ax.xaxis.set_major_locator(DayLocator(bymonthday=1))\n",
    "ax.xaxis.set_minor_locator(DayLocator(bymonthday=15))\n",
    "ax.xaxis.set_minor_formatter(DateFormatter('%b %Y'))\n",
    "ax.xaxis.set_major_formatter(DateFormatter(''))\n",
    "ax.xaxis.set_tick_params(which='major', pad=3)\n",
    "ax.xaxis.set_tick_params(which='minor', pad=5)"
   ]
  },
  {
   "cell_type": "markdown",
   "id": "sustained-hughes",
   "metadata": {},
   "source": [
    "## Save CF Netcdf files\n",
    "\n",
    "Currently stick to netcdf3 classic... but migrating to netcdf4 (default) may be no problems for most modern purposes.  Its easy enough to pass the `format` kwargs through to the netcdf api of xarray."
   ]
  },
  {
   "cell_type": "code",
   "execution_count": 102,
   "id": "modular-volunteer",
   "metadata": {
    "tags": []
   },
   "outputs": [],
   "source": [
    "depth = str(int(mooring_config['Instrumentation'][instrument]['ActualDepth'])).zfill(4)\n",
    "# mooring_yaml['Instrumentation'][self.instrument_id]['DesignedDepth'])).zfill(4) #<-- alternative\n",
    "filename = \"\".join(mooring_config['MooringID'].split('-')).lower()+'_'+inst_shortname+'_'+depth+'m.nc'\n",
    "ecoflsb_data_nc.xarray2netcdf_save(xdf = ecoflsb_data_nc.autotrim_time(),\n",
    "                           filename=filename,format=\"NETCDF3_CLASSIC\")\n"
   ]
  },
  {
   "cell_type": "code",
   "execution_count": 103,
   "id": "e53f2e48-07f2-4481-a5d4-1937ae213456",
   "metadata": {
    "tags": []
   },
   "outputs": [],
   "source": [
    "#csvoutput if necessary\n",
    "(ecoflsb_data_nc.get_xdf().to_dataframe()).to_csv(filename.replace('nc','csv'))"
   ]
  },
  {
   "cell_type": "code",
   "execution_count": 104,
   "id": "unlike-breathing",
   "metadata": {
    "tags": []
   },
   "outputs": [
    {
     "data": {
      "text/html": [
       "<div><svg style=\"position: absolute; width: 0; height: 0; overflow: hidden\">\n",
       "<defs>\n",
       "<symbol id=\"icon-database\" viewBox=\"0 0 32 32\">\n",
       "<path d=\"M16 0c-8.837 0-16 2.239-16 5v4c0 2.761 7.163 5 16 5s16-2.239 16-5v-4c0-2.761-7.163-5-16-5z\"></path>\n",
       "<path d=\"M16 17c-8.837 0-16-2.239-16-5v6c0 2.761 7.163 5 16 5s16-2.239 16-5v-6c0 2.761-7.163 5-16 5z\"></path>\n",
       "<path d=\"M16 26c-8.837 0-16-2.239-16-5v6c0 2.761 7.163 5 16 5s16-2.239 16-5v-6c0 2.761-7.163 5-16 5z\"></path>\n",
       "</symbol>\n",
       "<symbol id=\"icon-file-text2\" viewBox=\"0 0 32 32\">\n",
       "<path d=\"M28.681 7.159c-0.694-0.947-1.662-2.053-2.724-3.116s-2.169-2.030-3.116-2.724c-1.612-1.182-2.393-1.319-2.841-1.319h-15.5c-1.378 0-2.5 1.121-2.5 2.5v27c0 1.378 1.122 2.5 2.5 2.5h23c1.378 0 2.5-1.122 2.5-2.5v-19.5c0-0.448-0.137-1.23-1.319-2.841zM24.543 5.457c0.959 0.959 1.712 1.825 2.268 2.543h-4.811v-4.811c0.718 0.556 1.584 1.309 2.543 2.268zM28 29.5c0 0.271-0.229 0.5-0.5 0.5h-23c-0.271 0-0.5-0.229-0.5-0.5v-27c0-0.271 0.229-0.5 0.5-0.5 0 0 15.499-0 15.5 0v7c0 0.552 0.448 1 1 1h7v19.5z\"></path>\n",
       "<path d=\"M23 26h-14c-0.552 0-1-0.448-1-1s0.448-1 1-1h14c0.552 0 1 0.448 1 1s-0.448 1-1 1z\"></path>\n",
       "<path d=\"M23 22h-14c-0.552 0-1-0.448-1-1s0.448-1 1-1h14c0.552 0 1 0.448 1 1s-0.448 1-1 1z\"></path>\n",
       "<path d=\"M23 18h-14c-0.552 0-1-0.448-1-1s0.448-1 1-1h14c0.552 0 1 0.448 1 1s-0.448 1-1 1z\"></path>\n",
       "</symbol>\n",
       "</defs>\n",
       "</svg>\n",
       "<style>/* CSS stylesheet for displaying xarray objects in jupyterlab.\n",
       " *\n",
       " */\n",
       "\n",
       ":root {\n",
       "  --xr-font-color0: var(--jp-content-font-color0, rgba(0, 0, 0, 1));\n",
       "  --xr-font-color2: var(--jp-content-font-color2, rgba(0, 0, 0, 0.54));\n",
       "  --xr-font-color3: var(--jp-content-font-color3, rgba(0, 0, 0, 0.38));\n",
       "  --xr-border-color: var(--jp-border-color2, #e0e0e0);\n",
       "  --xr-disabled-color: var(--jp-layout-color3, #bdbdbd);\n",
       "  --xr-background-color: var(--jp-layout-color0, white);\n",
       "  --xr-background-color-row-even: var(--jp-layout-color1, white);\n",
       "  --xr-background-color-row-odd: var(--jp-layout-color2, #eeeeee);\n",
       "}\n",
       "\n",
       "html[theme=\"dark\"],\n",
       "html[data-theme=\"dark\"],\n",
       "body[data-theme=\"dark\"],\n",
       "body.vscode-dark {\n",
       "  --xr-font-color0: rgba(255, 255, 255, 1);\n",
       "  --xr-font-color2: rgba(255, 255, 255, 0.54);\n",
       "  --xr-font-color3: rgba(255, 255, 255, 0.38);\n",
       "  --xr-border-color: #1f1f1f;\n",
       "  --xr-disabled-color: #515151;\n",
       "  --xr-background-color: #111111;\n",
       "  --xr-background-color-row-even: #111111;\n",
       "  --xr-background-color-row-odd: #313131;\n",
       "}\n",
       "\n",
       ".xr-wrap {\n",
       "  display: block !important;\n",
       "  min-width: 300px;\n",
       "  max-width: 700px;\n",
       "}\n",
       "\n",
       ".xr-text-repr-fallback {\n",
       "  /* fallback to plain text repr when CSS is not injected (untrusted notebook) */\n",
       "  display: none;\n",
       "}\n",
       "\n",
       ".xr-header {\n",
       "  padding-top: 6px;\n",
       "  padding-bottom: 6px;\n",
       "  margin-bottom: 4px;\n",
       "  border-bottom: solid 1px var(--xr-border-color);\n",
       "}\n",
       "\n",
       ".xr-header > div,\n",
       ".xr-header > ul {\n",
       "  display: inline;\n",
       "  margin-top: 0;\n",
       "  margin-bottom: 0;\n",
       "}\n",
       "\n",
       ".xr-obj-type,\n",
       ".xr-array-name {\n",
       "  margin-left: 2px;\n",
       "  margin-right: 10px;\n",
       "}\n",
       "\n",
       ".xr-obj-type {\n",
       "  color: var(--xr-font-color2);\n",
       "}\n",
       "\n",
       ".xr-sections {\n",
       "  padding-left: 0 !important;\n",
       "  display: grid;\n",
       "  grid-template-columns: 150px auto auto 1fr 0 20px 0 20px;\n",
       "}\n",
       "\n",
       ".xr-section-item {\n",
       "  display: contents;\n",
       "}\n",
       "\n",
       ".xr-section-item input {\n",
       "  display: inline-block;\n",
       "  opacity: 0;\n",
       "  height: 0;\n",
       "}\n",
       "\n",
       ".xr-section-item input + label {\n",
       "  color: var(--xr-disabled-color);\n",
       "}\n",
       "\n",
       ".xr-section-item input:enabled + label {\n",
       "  cursor: pointer;\n",
       "  color: var(--xr-font-color2);\n",
       "}\n",
       "\n",
       ".xr-section-item input:focus + label {\n",
       "  border: 2px solid var(--xr-font-color0);\n",
       "}\n",
       "\n",
       ".xr-section-item input:enabled + label:hover {\n",
       "  color: var(--xr-font-color0);\n",
       "}\n",
       "\n",
       ".xr-section-summary {\n",
       "  grid-column: 1;\n",
       "  color: var(--xr-font-color2);\n",
       "  font-weight: 500;\n",
       "}\n",
       "\n",
       ".xr-section-summary > span {\n",
       "  display: inline-block;\n",
       "  padding-left: 0.5em;\n",
       "}\n",
       "\n",
       ".xr-section-summary-in:disabled + label {\n",
       "  color: var(--xr-font-color2);\n",
       "}\n",
       "\n",
       ".xr-section-summary-in + label:before {\n",
       "  display: inline-block;\n",
       "  content: \"►\";\n",
       "  font-size: 11px;\n",
       "  width: 15px;\n",
       "  text-align: center;\n",
       "}\n",
       "\n",
       ".xr-section-summary-in:disabled + label:before {\n",
       "  color: var(--xr-disabled-color);\n",
       "}\n",
       "\n",
       ".xr-section-summary-in:checked + label:before {\n",
       "  content: \"▼\";\n",
       "}\n",
       "\n",
       ".xr-section-summary-in:checked + label > span {\n",
       "  display: none;\n",
       "}\n",
       "\n",
       ".xr-section-summary,\n",
       ".xr-section-inline-details {\n",
       "  padding-top: 4px;\n",
       "  padding-bottom: 4px;\n",
       "}\n",
       "\n",
       ".xr-section-inline-details {\n",
       "  grid-column: 2 / -1;\n",
       "}\n",
       "\n",
       ".xr-section-details {\n",
       "  display: none;\n",
       "  grid-column: 1 / -1;\n",
       "  margin-bottom: 5px;\n",
       "}\n",
       "\n",
       ".xr-section-summary-in:checked ~ .xr-section-details {\n",
       "  display: contents;\n",
       "}\n",
       "\n",
       ".xr-array-wrap {\n",
       "  grid-column: 1 / -1;\n",
       "  display: grid;\n",
       "  grid-template-columns: 20px auto;\n",
       "}\n",
       "\n",
       ".xr-array-wrap > label {\n",
       "  grid-column: 1;\n",
       "  vertical-align: top;\n",
       "}\n",
       "\n",
       ".xr-preview {\n",
       "  color: var(--xr-font-color3);\n",
       "}\n",
       "\n",
       ".xr-array-preview,\n",
       ".xr-array-data {\n",
       "  padding: 0 5px !important;\n",
       "  grid-column: 2;\n",
       "}\n",
       "\n",
       ".xr-array-data,\n",
       ".xr-array-in:checked ~ .xr-array-preview {\n",
       "  display: none;\n",
       "}\n",
       "\n",
       ".xr-array-in:checked ~ .xr-array-data,\n",
       ".xr-array-preview {\n",
       "  display: inline-block;\n",
       "}\n",
       "\n",
       ".xr-dim-list {\n",
       "  display: inline-block !important;\n",
       "  list-style: none;\n",
       "  padding: 0 !important;\n",
       "  margin: 0;\n",
       "}\n",
       "\n",
       ".xr-dim-list li {\n",
       "  display: inline-block;\n",
       "  padding: 0;\n",
       "  margin: 0;\n",
       "}\n",
       "\n",
       ".xr-dim-list:before {\n",
       "  content: \"(\";\n",
       "}\n",
       "\n",
       ".xr-dim-list:after {\n",
       "  content: \")\";\n",
       "}\n",
       "\n",
       ".xr-dim-list li:not(:last-child):after {\n",
       "  content: \",\";\n",
       "  padding-right: 5px;\n",
       "}\n",
       "\n",
       ".xr-has-index {\n",
       "  font-weight: bold;\n",
       "}\n",
       "\n",
       ".xr-var-list,\n",
       ".xr-var-item {\n",
       "  display: contents;\n",
       "}\n",
       "\n",
       ".xr-var-item > div,\n",
       ".xr-var-item label,\n",
       ".xr-var-item > .xr-var-name span {\n",
       "  background-color: var(--xr-background-color-row-even);\n",
       "  margin-bottom: 0;\n",
       "}\n",
       "\n",
       ".xr-var-item > .xr-var-name:hover span {\n",
       "  padding-right: 5px;\n",
       "}\n",
       "\n",
       ".xr-var-list > li:nth-child(odd) > div,\n",
       ".xr-var-list > li:nth-child(odd) > label,\n",
       ".xr-var-list > li:nth-child(odd) > .xr-var-name span {\n",
       "  background-color: var(--xr-background-color-row-odd);\n",
       "}\n",
       "\n",
       ".xr-var-name {\n",
       "  grid-column: 1;\n",
       "}\n",
       "\n",
       ".xr-var-dims {\n",
       "  grid-column: 2;\n",
       "}\n",
       "\n",
       ".xr-var-dtype {\n",
       "  grid-column: 3;\n",
       "  text-align: right;\n",
       "  color: var(--xr-font-color2);\n",
       "}\n",
       "\n",
       ".xr-var-preview {\n",
       "  grid-column: 4;\n",
       "}\n",
       "\n",
       ".xr-index-preview {\n",
       "  grid-column: 2 / 5;\n",
       "  color: var(--xr-font-color2);\n",
       "}\n",
       "\n",
       ".xr-var-name,\n",
       ".xr-var-dims,\n",
       ".xr-var-dtype,\n",
       ".xr-preview,\n",
       ".xr-attrs dt {\n",
       "  white-space: nowrap;\n",
       "  overflow: hidden;\n",
       "  text-overflow: ellipsis;\n",
       "  padding-right: 10px;\n",
       "}\n",
       "\n",
       ".xr-var-name:hover,\n",
       ".xr-var-dims:hover,\n",
       ".xr-var-dtype:hover,\n",
       ".xr-attrs dt:hover {\n",
       "  overflow: visible;\n",
       "  width: auto;\n",
       "  z-index: 1;\n",
       "}\n",
       "\n",
       ".xr-var-attrs,\n",
       ".xr-var-data,\n",
       ".xr-index-data {\n",
       "  display: none;\n",
       "  background-color: var(--xr-background-color) !important;\n",
       "  padding-bottom: 5px !important;\n",
       "}\n",
       "\n",
       ".xr-var-attrs-in:checked ~ .xr-var-attrs,\n",
       ".xr-var-data-in:checked ~ .xr-var-data,\n",
       ".xr-index-data-in:checked ~ .xr-index-data {\n",
       "  display: block;\n",
       "}\n",
       "\n",
       ".xr-var-data > table {\n",
       "  float: right;\n",
       "}\n",
       "\n",
       ".xr-var-name span,\n",
       ".xr-var-data,\n",
       ".xr-index-name div,\n",
       ".xr-index-data,\n",
       ".xr-attrs {\n",
       "  padding-left: 25px !important;\n",
       "}\n",
       "\n",
       ".xr-attrs,\n",
       ".xr-var-attrs,\n",
       ".xr-var-data,\n",
       ".xr-index-data {\n",
       "  grid-column: 1 / -1;\n",
       "}\n",
       "\n",
       "dl.xr-attrs {\n",
       "  padding: 0;\n",
       "  margin: 0;\n",
       "  display: grid;\n",
       "  grid-template-columns: 125px auto;\n",
       "}\n",
       "\n",
       ".xr-attrs dt,\n",
       ".xr-attrs dd {\n",
       "  padding: 0;\n",
       "  margin: 0;\n",
       "  float: left;\n",
       "  padding-right: 10px;\n",
       "  width: auto;\n",
       "}\n",
       "\n",
       ".xr-attrs dt {\n",
       "  font-weight: normal;\n",
       "  grid-column: 1;\n",
       "}\n",
       "\n",
       ".xr-attrs dt:hover span {\n",
       "  display: inline-block;\n",
       "  background: var(--xr-background-color);\n",
       "  padding-right: 10px;\n",
       "}\n",
       "\n",
       ".xr-attrs dd {\n",
       "  grid-column: 2;\n",
       "  white-space: pre-wrap;\n",
       "  word-break: break-all;\n",
       "}\n",
       "\n",
       ".xr-icon-database,\n",
       ".xr-icon-file-text2,\n",
       ".xr-no-icon {\n",
       "  display: inline-block;\n",
       "  vertical-align: middle;\n",
       "  width: 1em;\n",
       "  height: 1.5em !important;\n",
       "  stroke-width: 0;\n",
       "  stroke: currentColor;\n",
       "  fill: currentColor;\n",
       "}\n",
       "</style><pre class='xr-text-repr-fallback'>&lt;xarray.Dataset&gt; Size: 142kB\n",
       "Dimensions:    (time: 8879, depth: 1, latitude: 1, longitude: 1)\n",
       "Coordinates:\n",
       "  * time       (time) datetime64[ns] 71kB 2024-08-16T05:00:00 ... 2025-08-21T...\n",
       "  * latitude   (latitude) float64 8B 71.22\n",
       "  * longitude  (longitude) float64 8B -164.2\n",
       "  * depth      (depth) float64 8B 40.0\n",
       "Data variables:\n",
       "    par        (time, depth, latitude, longitude) float64 71kB 0.1363 ... 0.0...\n",
       "Attributes: (12/15)\n",
       "    Latitude_DegMMddW:                      71 12.942 N\n",
       "    Longitude_DegMMddN:                     164 14.964 W\n",
       "    MooringID:                              24CKP-2A\n",
       "    platform_deployment_date:               2024-08-16T04:15:00Z\n",
       "    platform_deployment_cruise_name:        SKQ202412S\n",
       "    platform_recovery_date:                 2025-08-21T03:21:00Z\n",
       "    ...                                     ...\n",
       "    InstrumentSerialNumber:                 8466\n",
       "    InstrumentType:                         ECO-PAR PARSB\n",
       "    date_created:                           2025-09-19T09:00:02Z\n",
       "    date_modified:                          \n",
       "    QC_indicator:                           unknown\n",
       "    history:                                Trimmed to deployment.\\nTrimmed t...</pre><div class='xr-wrap' style='display:none'><div class='xr-header'><div class='xr-obj-type'>xarray.Dataset</div></div><ul class='xr-sections'><li class='xr-section-item'><input id='section-e448e14e-df9d-41f4-95dc-bd601fdf6c5f' class='xr-section-summary-in' type='checkbox' disabled ><label for='section-e448e14e-df9d-41f4-95dc-bd601fdf6c5f' class='xr-section-summary'  title='Expand/collapse section'>Dimensions:</label><div class='xr-section-inline-details'><ul class='xr-dim-list'><li><span class='xr-has-index'>time</span>: 8879</li><li><span class='xr-has-index'>depth</span>: 1</li><li><span class='xr-has-index'>latitude</span>: 1</li><li><span class='xr-has-index'>longitude</span>: 1</li></ul></div><div class='xr-section-details'></div></li><li class='xr-section-item'><input id='section-c8314733-bba5-4a60-a69f-3989fd756ab9' class='xr-section-summary-in' type='checkbox'  checked><label for='section-c8314733-bba5-4a60-a69f-3989fd756ab9' class='xr-section-summary' >Coordinates: <span>(4)</span></label><div class='xr-section-inline-details'></div><div class='xr-section-details'><ul class='xr-var-list'><li class='xr-var-item'><div class='xr-var-name'><span class='xr-has-index'>time</span></div><div class='xr-var-dims'>(time)</div><div class='xr-var-dtype'>datetime64[ns]</div><div class='xr-var-preview xr-preview'>2024-08-16T05:00:00 ... 2025-08-...</div><input id='attrs-63537efa-63c6-4ae6-bdb4-546ea94d6205' class='xr-var-attrs-in' type='checkbox' ><label for='attrs-63537efa-63c6-4ae6-bdb4-546ea94d6205' title='Show/Hide attributes'><svg class='icon xr-icon-file-text2'><use xlink:href='#icon-file-text2'></use></svg></label><input id='data-21a2775f-0886-46d5-82e8-16fd1b0b93b2' class='xr-var-data-in' type='checkbox'><label for='data-21a2775f-0886-46d5-82e8-16fd1b0b93b2' title='Show/Hide data repr'><svg class='icon xr-icon-database'><use xlink:href='#icon-database'></use></svg></label><div class='xr-var-attrs'><dl class='xr-attrs'><dt><span>epic_key :</span></dt><dd>TIM_601</dd><dt><span>name :</span></dt><dd>time</dd><dt><span>generic_name :</span></dt><dd>time</dd><dt><span>standard_name :</span></dt><dd>time</dd><dt><span>long_name :</span></dt><dd>date and time since reference time</dd></dl></div><div class='xr-var-data'><pre>array([&#x27;2024-08-16T05:00:00.000000000&#x27;, &#x27;2024-08-16T06:00:00.000000000&#x27;,\n",
       "       &#x27;2024-08-16T07:00:00.000000000&#x27;, ..., &#x27;2025-08-21T01:00:00.000000000&#x27;,\n",
       "       &#x27;2025-08-21T02:00:00.000000000&#x27;, &#x27;2025-08-21T03:00:00.000000000&#x27;],\n",
       "      dtype=&#x27;datetime64[ns]&#x27;)</pre></div></li><li class='xr-var-item'><div class='xr-var-name'><span class='xr-has-index'>latitude</span></div><div class='xr-var-dims'>(latitude)</div><div class='xr-var-dtype'>float64</div><div class='xr-var-preview xr-preview'>71.22</div><input id='attrs-6538c52d-c856-4fa8-8e21-2ceaf314c824' class='xr-var-attrs-in' type='checkbox' ><label for='attrs-6538c52d-c856-4fa8-8e21-2ceaf314c824' title='Show/Hide attributes'><svg class='icon xr-icon-file-text2'><use xlink:href='#icon-file-text2'></use></svg></label><input id='data-2e14a914-3fa6-4f4a-909b-cf3927db6a7f' class='xr-var-data-in' type='checkbox'><label for='data-2e14a914-3fa6-4f4a-909b-cf3927db6a7f' title='Show/Hide data repr'><svg class='icon xr-icon-database'><use xlink:href='#icon-database'></use></svg></label><div class='xr-var-attrs'><dl class='xr-attrs'><dt><span>epic_key :</span></dt><dd>LON_501</dd><dt><span>name :</span></dt><dd>latitude</dd><dt><span>generic_name :</span></dt><dd>latitude</dd><dt><span>units :</span></dt><dd>degrees_north</dd><dt><span>long_name :</span></dt><dd>latitude</dd><dt><span>standard_name :</span></dt><dd>latitude</dd></dl></div><div class='xr-var-data'><pre>array([71.2157])</pre></div></li><li class='xr-var-item'><div class='xr-var-name'><span class='xr-has-index'>longitude</span></div><div class='xr-var-dims'>(longitude)</div><div class='xr-var-dtype'>float64</div><div class='xr-var-preview xr-preview'>-164.2</div><input id='attrs-d16d6c8d-6e22-4963-b07d-4c0d8e268a18' class='xr-var-attrs-in' type='checkbox' ><label for='attrs-d16d6c8d-6e22-4963-b07d-4c0d8e268a18' title='Show/Hide attributes'><svg class='icon xr-icon-file-text2'><use xlink:href='#icon-file-text2'></use></svg></label><input id='data-195711a4-9899-4e0a-9a88-83db4e7186eb' class='xr-var-data-in' type='checkbox'><label for='data-195711a4-9899-4e0a-9a88-83db4e7186eb' title='Show/Hide data repr'><svg class='icon xr-icon-database'><use xlink:href='#icon-database'></use></svg></label><div class='xr-var-attrs'><dl class='xr-attrs'><dt><span>epic_key :</span></dt><dd>LAT_500</dd><dt><span>name :</span></dt><dd>longitude</dd><dt><span>generic_name :</span></dt><dd>longitude</dd><dt><span>units :</span></dt><dd>degrees_east</dd><dt><span>long_name :</span></dt><dd>longitude</dd><dt><span>standard_name :</span></dt><dd>longitude</dd></dl></div><div class='xr-var-data'><pre>array([-164.2494])</pre></div></li><li class='xr-var-item'><div class='xr-var-name'><span class='xr-has-index'>depth</span></div><div class='xr-var-dims'>(depth)</div><div class='xr-var-dtype'>float64</div><div class='xr-var-preview xr-preview'>40.0</div><input id='attrs-4a79e6a8-876e-4a50-a3dd-2a13c02dffcd' class='xr-var-attrs-in' type='checkbox' ><label for='attrs-4a79e6a8-876e-4a50-a3dd-2a13c02dffcd' title='Show/Hide attributes'><svg class='icon xr-icon-file-text2'><use xlink:href='#icon-file-text2'></use></svg></label><input id='data-f568395e-5bba-4bb9-a076-53c0c769c484' class='xr-var-data-in' type='checkbox'><label for='data-f568395e-5bba-4bb9-a076-53c0c769c484' title='Show/Hide data repr'><svg class='icon xr-icon-database'><use xlink:href='#icon-database'></use></svg></label><div class='xr-var-attrs'><dl class='xr-attrs'><dt><span>epic_key :</span></dt><dd>D_3</dd><dt><span>generic_name :</span></dt><dd>depth</dd><dt><span>units :</span></dt><dd>meter</dd><dt><span>long_name :</span></dt><dd>depth below surface (meters)</dd><dt><span>standard_name :</span></dt><dd>depth</dd><dt><span>positive :</span></dt><dd>down</dd></dl></div><div class='xr-var-data'><pre>array([40.])</pre></div></li></ul></div></li><li class='xr-section-item'><input id='section-9afe181d-f536-4eeb-8587-6d9dba415d44' class='xr-section-summary-in' type='checkbox'  checked><label for='section-9afe181d-f536-4eeb-8587-6d9dba415d44' class='xr-section-summary' >Data variables: <span>(1)</span></label><div class='xr-section-inline-details'></div><div class='xr-section-details'><ul class='xr-var-list'><li class='xr-var-item'><div class='xr-var-name'><span>par</span></div><div class='xr-var-dims'>(time, depth, latitude, longitude)</div><div class='xr-var-dtype'>float64</div><div class='xr-var-preview xr-preview'>0.1363 0.1059 ... 0.1006 0.07912</div><input id='attrs-e77dba09-2a31-4254-9b1a-4c548494690c' class='xr-var-attrs-in' type='checkbox' ><label for='attrs-e77dba09-2a31-4254-9b1a-4c548494690c' title='Show/Hide attributes'><svg class='icon xr-icon-file-text2'><use xlink:href='#icon-file-text2'></use></svg></label><input id='data-d1275c5d-3aa0-4913-a35e-461fdbc2de92' class='xr-var-data-in' type='checkbox'><label for='data-d1275c5d-3aa0-4913-a35e-461fdbc2de92' title='Show/Hide data repr'><svg class='icon xr-icon-database'><use xlink:href='#icon-database'></use></svg></label><div class='xr-var-attrs'><dl class='xr-attrs'><dt><span>generic_name :</span></dt><dd>par</dd><dt><span>epic_key :</span></dt><dd>PAR_905</dd><dt><span>long_name :</span></dt><dd>Photosynthetic Active Radiation</dd><dt><span>standard_name :</span></dt><dd>omnidirectional_photosynthetic_photon_spherical_irradiance_in_sea_water</dd><dt><span>units :</span></dt><dd>uEin m-2 s-1</dd></dl></div><div class='xr-var-data'><pre>array([[[[0.13628622]]],\n",
       "\n",
       "\n",
       "       [[[0.10592692]]],\n",
       "\n",
       "\n",
       "       [[[0.04872783]]],\n",
       "\n",
       "\n",
       "       ...,\n",
       "\n",
       "\n",
       "       [[[0.05694943]]],\n",
       "\n",
       "\n",
       "       [[[0.10057377]]],\n",
       "\n",
       "\n",
       "       [[[0.07911593]]]])</pre></div></li></ul></div></li><li class='xr-section-item'><input id='section-7fa5fcee-28fe-4fe1-bfb4-bd204c4bd615' class='xr-section-summary-in' type='checkbox'  ><label for='section-7fa5fcee-28fe-4fe1-bfb4-bd204c4bd615' class='xr-section-summary' >Indexes: <span>(4)</span></label><div class='xr-section-inline-details'></div><div class='xr-section-details'><ul class='xr-var-list'><li class='xr-var-item'><div class='xr-index-name'><div>time</div></div><div class='xr-index-preview'>PandasIndex</div><input type='checkbox' disabled/><label></label><input id='index-cec4b9e6-d4df-4be3-a061-fe0084bf94c1' class='xr-index-data-in' type='checkbox'/><label for='index-cec4b9e6-d4df-4be3-a061-fe0084bf94c1' title='Show/Hide index repr'><svg class='icon xr-icon-database'><use xlink:href='#icon-database'></use></svg></label><div class='xr-index-data'><pre>PandasIndex(DatetimeIndex([&#x27;2024-08-16 05:00:00&#x27;, &#x27;2024-08-16 06:00:00&#x27;,\n",
       "               &#x27;2024-08-16 07:00:00&#x27;, &#x27;2024-08-16 08:00:00&#x27;,\n",
       "               &#x27;2024-08-16 09:00:00&#x27;, &#x27;2024-08-16 10:00:00&#x27;,\n",
       "               &#x27;2024-08-16 11:00:00&#x27;, &#x27;2024-08-16 12:00:00&#x27;,\n",
       "               &#x27;2024-08-16 13:00:00&#x27;, &#x27;2024-08-16 14:00:00&#x27;,\n",
       "               ...\n",
       "               &#x27;2025-08-20 18:00:00&#x27;, &#x27;2025-08-20 19:00:00&#x27;,\n",
       "               &#x27;2025-08-20 20:00:00&#x27;, &#x27;2025-08-20 21:00:00&#x27;,\n",
       "               &#x27;2025-08-20 22:00:00&#x27;, &#x27;2025-08-20 23:00:00&#x27;,\n",
       "               &#x27;2025-08-21 00:00:00&#x27;, &#x27;2025-08-21 01:00:00&#x27;,\n",
       "               &#x27;2025-08-21 02:00:00&#x27;, &#x27;2025-08-21 03:00:00&#x27;],\n",
       "              dtype=&#x27;datetime64[ns]&#x27;, name=&#x27;time&#x27;, length=8879, freq=&#x27;60min&#x27;))</pre></div></li><li class='xr-var-item'><div class='xr-index-name'><div>latitude</div></div><div class='xr-index-preview'>PandasIndex</div><input type='checkbox' disabled/><label></label><input id='index-4084bc7f-6541-40b6-a2a9-d345a5c415f2' class='xr-index-data-in' type='checkbox'/><label for='index-4084bc7f-6541-40b6-a2a9-d345a5c415f2' title='Show/Hide index repr'><svg class='icon xr-icon-database'><use xlink:href='#icon-database'></use></svg></label><div class='xr-index-data'><pre>PandasIndex(Index([71.2157], dtype=&#x27;float64&#x27;, name=&#x27;latitude&#x27;))</pre></div></li><li class='xr-var-item'><div class='xr-index-name'><div>longitude</div></div><div class='xr-index-preview'>PandasIndex</div><input type='checkbox' disabled/><label></label><input id='index-9dcb4e37-95eb-4798-897f-f6e13203fa89' class='xr-index-data-in' type='checkbox'/><label for='index-9dcb4e37-95eb-4798-897f-f6e13203fa89' title='Show/Hide index repr'><svg class='icon xr-icon-database'><use xlink:href='#icon-database'></use></svg></label><div class='xr-index-data'><pre>PandasIndex(Index([-164.2494], dtype=&#x27;float64&#x27;, name=&#x27;longitude&#x27;))</pre></div></li><li class='xr-var-item'><div class='xr-index-name'><div>depth</div></div><div class='xr-index-preview'>PandasIndex</div><input type='checkbox' disabled/><label></label><input id='index-df6f30bb-400e-42f6-87f3-6a72e34d9552' class='xr-index-data-in' type='checkbox'/><label for='index-df6f30bb-400e-42f6-87f3-6a72e34d9552' title='Show/Hide index repr'><svg class='icon xr-icon-database'><use xlink:href='#icon-database'></use></svg></label><div class='xr-index-data'><pre>PandasIndex(Index([40.0], dtype=&#x27;float64&#x27;, name=&#x27;depth&#x27;))</pre></div></li></ul></div></li><li class='xr-section-item'><input id='section-7fa18b79-eea8-4a3f-b95b-8ae8e2690180' class='xr-section-summary-in' type='checkbox'  ><label for='section-7fa18b79-eea8-4a3f-b95b-8ae8e2690180' class='xr-section-summary' >Attributes: <span>(15)</span></label><div class='xr-section-inline-details'></div><div class='xr-section-details'><dl class='xr-attrs'><dt><span>Latitude_DegMMddW :</span></dt><dd>71 12.942 N</dd><dt><span>Longitude_DegMMddN :</span></dt><dd>164 14.964 W</dd><dt><span>MooringID :</span></dt><dd>24CKP-2A</dd><dt><span>platform_deployment_date :</span></dt><dd>2024-08-16T04:15:00Z</dd><dt><span>platform_deployment_cruise_name :</span></dt><dd>SKQ202412S</dd><dt><span>platform_recovery_date :</span></dt><dd>2025-08-21T03:21:00Z</dd><dt><span>platform_recovery_cruise_name :</span></dt><dd>SKQ202515S</dd><dt><span>platform_deployment_recovery_comments :</span></dt><dd></dd><dt><span>WaterDepth :</span></dt><dd>45.0</dd><dt><span>InstrumentSerialNumber :</span></dt><dd>8466</dd><dt><span>InstrumentType :</span></dt><dd>ECO-PAR PARSB</dd><dt><span>date_created :</span></dt><dd>2025-09-19T09:00:02Z</dd><dt><span>date_modified :</span></dt><dd></dd><dt><span>QC_indicator :</span></dt><dd>unknown</dd><dt><span>history :</span></dt><dd>Trimmed to deployment.\n",
       "Trimmed to deployment.\n",
       "Trimmed to deployment.</dd></dl></div></li></ul></div></div>"
      ],
      "text/plain": [
       "<xarray.Dataset> Size: 142kB\n",
       "Dimensions:    (time: 8879, depth: 1, latitude: 1, longitude: 1)\n",
       "Coordinates:\n",
       "  * time       (time) datetime64[ns] 71kB 2024-08-16T05:00:00 ... 2025-08-21T...\n",
       "  * latitude   (latitude) float64 8B 71.22\n",
       "  * longitude  (longitude) float64 8B -164.2\n",
       "  * depth      (depth) float64 8B 40.0\n",
       "Data variables:\n",
       "    par        (time, depth, latitude, longitude) float64 71kB 0.1363 ... 0.0...\n",
       "Attributes: (12/15)\n",
       "    Latitude_DegMMddW:                      71 12.942 N\n",
       "    Longitude_DegMMddN:                     164 14.964 W\n",
       "    MooringID:                              24CKP-2A\n",
       "    platform_deployment_date:               2024-08-16T04:15:00Z\n",
       "    platform_deployment_cruise_name:        SKQ202412S\n",
       "    platform_recovery_date:                 2025-08-21T03:21:00Z\n",
       "    ...                                     ...\n",
       "    InstrumentSerialNumber:                 8466\n",
       "    InstrumentType:                         ECO-PAR PARSB\n",
       "    date_created:                           2025-09-19T09:00:02Z\n",
       "    date_modified:                          \n",
       "    QC_indicator:                           unknown\n",
       "    history:                                Trimmed to deployment.\\nTrimmed t..."
      ]
     },
     "execution_count": 104,
     "metadata": {},
     "output_type": "execute_result"
    }
   ],
   "source": [
    "ecoflsb_data_nc.autotrim_time()"
   ]
  },
  {
   "cell_type": "markdown",
   "id": "individual-nature",
   "metadata": {},
   "source": [
    "## Next Steps\n",
    "\n",
    "QC of data (plot parameters with other instruments)\n",
    "- be sure to updated the qc_status and the history"
   ]
  },
  {
   "cell_type": "markdown",
   "id": "e45f804c-6ed2-486d-b833-a6d0fdf30e39",
   "metadata": {},
   "source": [
    "### Compare against CTD's"
   ]
  },
  {
   "cell_type": "code",
   "execution_count": 105,
   "id": "0c6fc40e-8c3d-4343-a473-c3b3d83863b9",
   "metadata": {
    "tags": []
   },
   "outputs": [],
   "source": [
    "import matplotlib.pyplot as plt\n",
    "import pandas as pd\n",
    "import EcoFOCIpy.io.erddap as erddap\n"
   ]
  },
  {
   "cell_type": "code",
   "execution_count": 106,
   "id": "8b19985c-41aa-46d3-98bf-5a9258841b0f",
   "metadata": {
    "tags": []
   },
   "outputs": [],
   "source": [
    "dep_details = {'url':\"http://ecofoci-field.pmel.noaa.gov:8082/erddap\",\n",
    "               'cruiseid':'skq202412s',\n",
    "               'qclevel':'preliminary',\n",
    "               'concastno':'045'\n",
    "              }\n",
    "\n",
    "rec_details = {'url':\"http://ecofoci-field.pmel.noaa.gov:8082/erddap\",\n",
    "               'cruiseid':'skq202515s',\n",
    "               'qclevel':'preliminary',\n",
    "               'concastno':'040'\n",
    "              }\n",
    "               \n",
    "depcast = erddap.erddapCTDretrieve(**dep_details)\n",
    "# reccast = erddap.erddapCTDretrieve(**rec_details)"
   ]
  },
  {
   "cell_type": "markdown",
   "id": "44c5b1a0-a046-4281-aa14-36d97db04eba",
   "metadata": {},
   "source": [
    "some variable names switch between preliminary and final... this will eventually be resolved"
   ]
  },
  {
   "cell_type": "code",
   "execution_count": 107,
   "id": "36edbc0b-b528-4030-9eff-95aeae3ab64e",
   "metadata": {
    "tags": []
   },
   "outputs": [],
   "source": [
    "depcast.columns = [x.split()[0] for x in depcast.columns]"
   ]
  },
  {
   "cell_type": "code",
   "execution_count": 108,
   "id": "705efb1f-a8be-4bb1-b8e6-f0785eec2f00",
   "metadata": {
    "tags": []
   },
   "outputs": [
    {
     "data": {
      "image/png": "[encoded data removed]",
      "text/plain": [
       "<Figure size 1600x200 with 1 Axes>"
      ]
     },
     "metadata": {},
     "output_type": "display_data"
    }
   ],
   "source": [
    "#plot ctd values with a small circular radius and zoom in on near their equivalent mooring time span, we are looking for visual discrepencies\n",
    "#cycle through each depth and plot respective plot\n",
    "depth = int(mooring_config['Instrumentation'][instrument]['ActualDepth'])\n",
    "depth = max(depcast.pressure)\n",
    "\n",
    "fig, ax = plt.subplots(1,figsize=(16, 2))\n",
    "ecoflsb_data_nc.autotrim_time().par.plot(x=\"time\",hue=\"depth\",ax=ax, add_legend=False);\n",
    "# ax.plot(pd.to_datetime(depcast[depcast['pressure'] == depth]['time']),\n",
    "#         depcast[depcast['pressure'] == depth]['PAR_905'],\n",
    "#         'o',markersize=20,markerfacecolor='none',markeredgecolor='red')\n",
    "# ax.plot(pd.to_datetime(depcast[depcast['pressure'] == depth]['time']),\n",
    "#         depcast[depcast['pressure'] == depth]['PAR_905'],\n",
    "#         '+',markersize=10,markerfacecolor='none',markeredgecolor='red')\n",
    "# ax.plot(pd.to_datetime(reccast[reccast['pressure'] == depth]['time (UTC)']),\n",
    "#         reccast[reccast['pressure'] == depth]['Fch_906 (ugrams/l)'],\n",
    "#         'o',markersize=20,markerfacecolor='none',markeredgecolor='red')\n",
    "# ax.plot(pd.to_datetime(reccast[reccast['pressure'] == depth]['time (UTC)']),\n",
    "#         reccast[reccast['pressure'] == depth]['Fch_906 (ugrams/l)'],\n",
    "#         '+',markersize=10,markerfacecolor='none',markeredgecolor='red')\n",
    "\n",
    "\n",
    "ax.xaxis.set_major_locator(DayLocator(bymonthday=1))\n",
    "ax.xaxis.set_minor_locator(DayLocator(bymonthday=15))\n",
    "ax.xaxis.set_minor_formatter(DateFormatter('%b %Y'))\n",
    "ax.xaxis.set_major_formatter(DateFormatter(''))\n",
    "ax.xaxis.set_tick_params(which='major', pad=3)\n",
    "ax.xaxis.set_tick_params(which='minor', pad=5)\n",
    "\n",
    "fig.savefig(f\"images/{filename.replace('nc','_fluorCal.png')}\")"
   ]
  },
  {
   "cell_type": "markdown",
   "id": "5d75236b-ad10-4e70-ac98-222626cc7bb1",
   "metadata": {},
   "source": [
    "### QC Notes from plots\n",
    "\n",
    "- rough field check points look good\n",
    "- should any form of filter be applied? There's some late fall noise that we could filter out and we could smooth the 2021 fall data a little... but ???"
   ]
  }
 ],
 "metadata": {
  "kernelspec": {
   "display_name": "Python [conda env:p312]",
   "language": "python",
   "name": "conda-env-p312-py"
  },
  "language_info": {
   "codemirror_mode": {
    "name": "ipython",
    "version": 3
   },
   "file_extension": ".py",
   "mimetype": "text/x-python",
   "name": "python",
   "nbconvert_exporter": "python",
   "pygments_lexer": "ipython3",
   "version": "3.12.10"
  }
 },
 "nbformat": 4,
 "nbformat_minor": 5
}
