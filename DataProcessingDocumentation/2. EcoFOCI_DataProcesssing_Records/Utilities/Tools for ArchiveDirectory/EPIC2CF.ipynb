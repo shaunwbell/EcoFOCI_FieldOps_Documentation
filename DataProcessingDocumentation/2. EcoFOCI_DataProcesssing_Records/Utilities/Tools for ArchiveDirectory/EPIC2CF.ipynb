{
 "cells": [
  {
   "cell_type": "markdown",
   "id": "d6e80ce0-a3e0-43ea-a079-068b0a409ece",
   "metadata": {},
   "source": [
    "# Read EPIC NetCDF file and convert to CF time\n",
    "- This just creates a netcdf file with one timeword instead of the epic two time word"
   ]
  },
  {
   "cell_type": "code",
   "execution_count": 1,
   "id": "1bbc8da2-de65-4188-9e93-a5902641e104",
   "metadata": {},
   "outputs": [],
   "source": [
    "import EcoFOCIpy.io.ncCFsave as ncCFsave\n",
    "import EcoFOCIpy.epic.EPIC_timeconvert as epic\n",
    "\n",
    "import xarray as xa\n",
    "import os"
   ]
  },
  {
   "cell_type": "code",
   "execution_count": 30,
   "id": "7f50adb7-ebb5-4ac6-9db6-6abf4c360b80",
   "metadata": {
    "scrolled": true
   },
   "outputs": [
    {
     "name": "stdout",
     "output_type": "stream",
     "text": [
      "11bs5a_s39_0065m.nc\n",
      "11bs5a_s39_0048m.nc\n",
      "11bs5a_ecf_0012m.nc\n",
      "11bs5a_s39_0039m.nc\n",
      "11bs5a_s39_0005m.nc\n"
     ]
    },
    {
     "name": "stderr",
     "output_type": "stream",
     "text": [
      "/var/folders/6r/n_mpcj7d7pdf9ncqvjy5vb8c0000jm/T/ipykernel_2979/1639363563.py:21: UserWarning: Times can't be serialized faithfully to int64 with requested units 'days since 1900-01-01'. Resolution of 'minutes' needed. Serializing times to floating point instead. Set encoding['dtype'] to integer dtype to serialize to int64. Set encoding['dtype'] to floating point dtype to silence this warning.\n",
      "  pdf.to_netcdf(f'{path}{files.replace('.nc','.cf.nc')}',\n",
      "/var/folders/6r/n_mpcj7d7pdf9ncqvjy5vb8c0000jm/T/ipykernel_2979/1639363563.py:21: UserWarning: Times can't be serialized faithfully to int64 with requested units 'days since 1900-01-01'. Resolution of 'minutes' needed. Serializing times to floating point instead. Set encoding['dtype'] to integer dtype to serialize to int64. Set encoding['dtype'] to floating point dtype to silence this warning.\n",
      "  pdf.to_netcdf(f'{path}{files.replace('.nc','.cf.nc')}',\n",
      "/var/folders/6r/n_mpcj7d7pdf9ncqvjy5vb8c0000jm/T/ipykernel_2979/1639363563.py:21: UserWarning: Times can't be serialized faithfully to int64 with requested units 'days since 1900-01-01'. Resolution of 'hours' needed. Serializing times to floating point instead. Set encoding['dtype'] to integer dtype to serialize to int64. Set encoding['dtype'] to floating point dtype to silence this warning.\n",
      "  pdf.to_netcdf(f'{path}{files.replace('.nc','.cf.nc')}',\n",
      "/var/folders/6r/n_mpcj7d7pdf9ncqvjy5vb8c0000jm/T/ipykernel_2979/1639363563.py:21: UserWarning: Times can't be serialized faithfully to int64 with requested units 'days since 1900-01-01'. Resolution of 'minutes' needed. Serializing times to floating point instead. Set encoding['dtype'] to integer dtype to serialize to int64. Set encoding['dtype'] to floating point dtype to silence this warning.\n",
      "  pdf.to_netcdf(f'{path}{files.replace('.nc','.cf.nc')}',\n",
      "/var/folders/6r/n_mpcj7d7pdf9ncqvjy5vb8c0000jm/T/ipykernel_2979/1639363563.py:21: UserWarning: Times can't be serialized faithfully to int64 with requested units 'days since 1900-01-01'. Resolution of 'minutes' needed. Serializing times to floating point instead. Set encoding['dtype'] to integer dtype to serialize to int64. Set encoding['dtype'] to floating point dtype to silence this warning.\n",
      "  pdf.to_netcdf(f'{path}{files.replace('.nc','.cf.nc')}',\n",
      "/var/folders/6r/n_mpcj7d7pdf9ncqvjy5vb8c0000jm/T/ipykernel_2979/1639363563.py:21: UserWarning: Times can't be serialized faithfully to int64 with requested units 'days since 1900-01-01'. Resolution of 'minutes' needed. Serializing times to floating point instead. Set encoding['dtype'] to integer dtype to serialize to int64. Set encoding['dtype'] to floating point dtype to silence this warning.\n",
      "  pdf.to_netcdf(f'{path}{files.replace('.nc','.cf.nc')}',\n",
      "/var/folders/6r/n_mpcj7d7pdf9ncqvjy5vb8c0000jm/T/ipykernel_2979/1639363563.py:21: UserWarning: Times can't be serialized faithfully to int64 with requested units 'days since 1900-01-01'. Resolution of 'hours' needed. Serializing times to floating point instead. Set encoding['dtype'] to integer dtype to serialize to int64. Set encoding['dtype'] to floating point dtype to silence this warning.\n",
      "  pdf.to_netcdf(f'{path}{files.replace('.nc','.cf.nc')}',\n"
     ]
    },
    {
     "name": "stdout",
     "output_type": "stream",
     "text": [
      "11bs5a_mt_0037m.nc\n",
      "11bs5a_s37_0034m.nc\n",
      "11bs5a_s39_0014m.nc\n",
      "11bs5a_mt_0038m.nc\n",
      "11bs5a_s39_0019m.nc\n",
      "11bs5a_s39_0026m.nc\n"
     ]
    },
    {
     "name": "stderr",
     "output_type": "stream",
     "text": [
      "/var/folders/6r/n_mpcj7d7pdf9ncqvjy5vb8c0000jm/T/ipykernel_2979/1639363563.py:21: UserWarning: Times can't be serialized faithfully to int64 with requested units 'days since 1900-01-01'. Resolution of 'minutes' needed. Serializing times to floating point instead. Set encoding['dtype'] to integer dtype to serialize to int64. Set encoding['dtype'] to floating point dtype to silence this warning.\n",
      "  pdf.to_netcdf(f'{path}{files.replace('.nc','.cf.nc')}',\n",
      "/var/folders/6r/n_mpcj7d7pdf9ncqvjy5vb8c0000jm/T/ipykernel_2979/1639363563.py:21: UserWarning: Times can't be serialized faithfully to int64 with requested units 'days since 1900-01-01'. Resolution of 'minutes' needed. Serializing times to floating point instead. Set encoding['dtype'] to integer dtype to serialize to int64. Set encoding['dtype'] to floating point dtype to silence this warning.\n",
      "  pdf.to_netcdf(f'{path}{files.replace('.nc','.cf.nc')}',\n",
      "/var/folders/6r/n_mpcj7d7pdf9ncqvjy5vb8c0000jm/T/ipykernel_2979/1639363563.py:21: UserWarning: Times can't be serialized faithfully to int64 with requested units 'days since 1900-01-01'. Resolution of 'minutes' needed. Serializing times to floating point instead. Set encoding['dtype'] to integer dtype to serialize to int64. Set encoding['dtype'] to floating point dtype to silence this warning.\n",
      "  pdf.to_netcdf(f'{path}{files.replace('.nc','.cf.nc')}',\n",
      "/var/folders/6r/n_mpcj7d7pdf9ncqvjy5vb8c0000jm/T/ipykernel_2979/1639363563.py:21: UserWarning: Times can't be serialized faithfully to int64 with requested units 'days since 1900-01-01'. Resolution of 'minutes' needed. Serializing times to floating point instead. Set encoding['dtype'] to integer dtype to serialize to int64. Set encoding['dtype'] to floating point dtype to silence this warning.\n",
      "  pdf.to_netcdf(f'{path}{files.replace('.nc','.cf.nc')}',\n",
      "/var/folders/6r/n_mpcj7d7pdf9ncqvjy5vb8c0000jm/T/ipykernel_2979/1639363563.py:21: UserWarning: Times can't be serialized faithfully to int64 with requested units 'days since 1900-01-01'. Resolution of 'minutes' needed. Serializing times to floating point instead. Set encoding['dtype'] to integer dtype to serialize to int64. Set encoding['dtype'] to floating point dtype to silence this warning.\n",
      "  pdf.to_netcdf(f'{path}{files.replace('.nc','.cf.nc')}',\n"
     ]
    },
    {
     "name": "stdout",
     "output_type": "stream",
     "text": [
      "11bs5a_s39_0027m.nc\n",
      "11bs5a_s39_0022m.nc\n",
      "11bs5a_s39_0008m.nc\n",
      "11bs5a_sc_0024m.nc\n",
      "11bs5a_s39_0054m.nc\n",
      "11bs5a_s37_0060m.nc\n",
      "11bs5a_an9_0067m.nc\n"
     ]
    },
    {
     "name": "stderr",
     "output_type": "stream",
     "text": [
      "/var/folders/6r/n_mpcj7d7pdf9ncqvjy5vb8c0000jm/T/ipykernel_2979/1639363563.py:21: UserWarning: Times can't be serialized faithfully to int64 with requested units 'days since 1900-01-01'. Resolution of 'minutes' needed. Serializing times to floating point instead. Set encoding['dtype'] to integer dtype to serialize to int64. Set encoding['dtype'] to floating point dtype to silence this warning.\n",
      "  pdf.to_netcdf(f'{path}{files.replace('.nc','.cf.nc')}',\n",
      "/var/folders/6r/n_mpcj7d7pdf9ncqvjy5vb8c0000jm/T/ipykernel_2979/1639363563.py:21: UserWarning: Times can't be serialized faithfully to int64 with requested units 'days since 1900-01-01'. Resolution of 'minutes' needed. Serializing times to floating point instead. Set encoding['dtype'] to integer dtype to serialize to int64. Set encoding['dtype'] to floating point dtype to silence this warning.\n",
      "  pdf.to_netcdf(f'{path}{files.replace('.nc','.cf.nc')}',\n",
      "/var/folders/6r/n_mpcj7d7pdf9ncqvjy5vb8c0000jm/T/ipykernel_2979/1639363563.py:21: UserWarning: Times can't be serialized faithfully to int64 with requested units 'days since 1900-01-01'. Resolution of 'hours' needed. Serializing times to floating point instead. Set encoding['dtype'] to integer dtype to serialize to int64. Set encoding['dtype'] to floating point dtype to silence this warning.\n",
      "  pdf.to_netcdf(f'{path}{files.replace('.nc','.cf.nc')}',\n",
      "/var/folders/6r/n_mpcj7d7pdf9ncqvjy5vb8c0000jm/T/ipykernel_2979/1639363563.py:21: UserWarning: Times can't be serialized faithfully to int64 with requested units 'days since 1900-01-01'. Resolution of 'minutes' needed. Serializing times to floating point instead. Set encoding['dtype'] to integer dtype to serialize to int64. Set encoding['dtype'] to floating point dtype to silence this warning.\n",
      "  pdf.to_netcdf(f'{path}{files.replace('.nc','.cf.nc')}',\n",
      "/var/folders/6r/n_mpcj7d7pdf9ncqvjy5vb8c0000jm/T/ipykernel_2979/1639363563.py:21: UserWarning: Times can't be serialized faithfully to int64 with requested units 'days since 1900-01-01'. Resolution of 'hours' needed. Serializing times to floating point instead. Set encoding['dtype'] to integer dtype to serialize to int64. Set encoding['dtype'] to floating point dtype to silence this warning.\n",
      "  pdf.to_netcdf(f'{path}{files.replace('.nc','.cf.nc')}',\n",
      "/var/folders/6r/n_mpcj7d7pdf9ncqvjy5vb8c0000jm/T/ipykernel_2979/1639363563.py:21: UserWarning: Times can't be serialized faithfully to int64 with requested units 'days since 1900-01-01'. Resolution of 'hours' needed. Serializing times to floating point instead. Set encoding['dtype'] to integer dtype to serialize to int64. Set encoding['dtype'] to floating point dtype to silence this warning.\n",
      "  pdf.to_netcdf(f'{path}{files.replace('.nc','.cf.nc')}',\n"
     ]
    }
   ],
   "source": [
    "path = '/Users/bell/ecoraid/2011/Moorings/11bs5a/final_data/'\n",
    "for files in os.listdir(path):\n",
    "    if '.nc' in files:\n",
    "        print(files)\n",
    "        xdf = xa.load_dataset(f'{path}{files}',decode_times=False)\n",
    "        \n",
    "        pdf = xdf.copy()\n",
    "\n",
    "        #time edit\n",
    "        pdf['time'] = epic.EPIC2Datetime(pdf.time,pdf.time2)\n",
    "        pdf = pdf.drop_vars('time2')\n",
    "\n",
    "        #var attr\n",
    "        for v in pdf.variables:\n",
    "            if v not in ['depth','latitude','longitude','time']:\n",
    "                pdf[v].attrs['missing_value'] = \"-9999\"\n",
    "\n",
    "        \n",
    "        #global attr\n",
    "        pdf.attrs['PROGRAM'] = \"NOAA PMEL EcoFOCI\"\n",
    "        pdf.to_netcdf(f'{path}{files.replace('.nc','.cf.nc')}',\n",
    "                     format='NETCDF3_CLASSIC',encoding={'time':{'units':'days since 1900-01-01'}})"
   ]
  },
  {
   "cell_type": "code",
   "execution_count": null,
   "id": "c89d5437-a599-4e64-ba04-669368588919",
   "metadata": {},
   "outputs": [],
   "source": []
  }
 ],
 "metadata": {
  "kernelspec": {
   "display_name": "Python [conda env:p312]",
   "language": "python",
   "name": "conda-env-p312-py"
  },
  "language_info": {
   "codemirror_mode": {
    "name": "ipython",
    "version": 3
   },
   "file_extension": ".py",
   "mimetype": "text/x-python",
   "name": "python",
   "nbconvert_exporter": "python",
   "pygments_lexer": "ipython3",
   "version": "3.12.10"
  }
 },
 "nbformat": 4,
 "nbformat_minor": 5
}
